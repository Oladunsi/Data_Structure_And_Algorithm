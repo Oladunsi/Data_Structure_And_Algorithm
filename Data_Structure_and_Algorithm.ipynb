{
 "cells": [
  {
   "cell_type": "code",
   "execution_count": 30,
   "metadata": {},
   "outputs": [],
   "source": [
    "def create_stack():\n",
    "    stack = []\n",
    "    return stack\n",
    "def check_empty(stack):\n",
    "    return len(stack) == 0\n",
    "def is_full(stack):\n",
    "    return len(stack) == 10\n",
    "def push(stack,item):\n",
    "    if is_full(stack):\n",
    "        update_verify = input(\"Would you like to change the last entry? (y/n) \").lower()\n",
    "        if update_verify == \"y\":\n",
    "            stack.pop()\n",
    "            stack.append(item)\n",
    "            return stack\n",
    "        else:\n",
    "            return \"Items remain the same as {}\".format(stack)\n",
    "    else:\n",
    "        return stack.append(item)\n",
    "def pop(stack):\n",
    "    try:\n",
    "        if not check_empty(stack):\n",
    "            return \n",
    "    except IndexError:\n",
    "        return \"-----Empty Stack-----\""
   ]
  },
  {
   "cell_type": "code",
   "execution_count": 3,
   "metadata": {},
   "outputs": [],
   "source": [
    "s = create_stack()\n"
   ]
  },
  {
   "cell_type": "code",
   "execution_count": 4,
   "metadata": {},
   "outputs": [],
   "source": [
    "push(s,\"Oke\")"
   ]
  },
  {
   "cell_type": "code",
   "execution_count": 6,
   "metadata": {},
   "outputs": [],
   "source": [
    "push(s,\"Vicky\")"
   ]
  },
  {
   "cell_type": "code",
   "execution_count": 8,
   "metadata": {},
   "outputs": [],
   "source": [
    "push(s,\"Nike\")\n",
    "push(s,\"Oni\")\n",
    "push(s,\"Uduma\")"
   ]
  },
  {
   "cell_type": "code",
   "execution_count": 10,
   "metadata": {},
   "outputs": [],
   "source": [
    "push(s,\"teni\")\n",
    "push(s,\"Otedola\")\n",
    "push(s,\"Adenuga\")"
   ]
  },
  {
   "cell_type": "code",
   "execution_count": 12,
   "metadata": {},
   "outputs": [],
   "source": [
    "push(s,\"Zachariah\")"
   ]
  },
  {
   "cell_type": "code",
   "execution_count": 17,
   "metadata": {},
   "outputs": [
    {
     "name": "stdin",
     "output_type": "stream",
     "text": [
      "Would you like to change the last entry? (y/n)  y\n"
     ]
    },
    {
     "data": {
      "text/plain": [
       "['Oke',\n",
       " 'Vicky',\n",
       " 'Nike',\n",
       " 'Oni',\n",
       " 'Uduma',\n",
       " 'teni',\n",
       " 'Otedola',\n",
       " 'Adenuga',\n",
       " 'Zachariah',\n",
       " 'Anu']"
      ]
     },
     "execution_count": 17,
     "metadata": {},
     "output_type": "execute_result"
    }
   ],
   "source": [
    "push(s,\"Anu\")"
   ]
  },
  {
   "cell_type": "code",
   "execution_count": 14,
   "metadata": {},
   "outputs": [
    {
     "name": "stdin",
     "output_type": "stream",
     "text": [
      "Would you like to change the last entry? (y/n)  y\n"
     ]
    }
   ],
   "source": [
    "push(s,\"A\")"
   ]
  },
  {
   "cell_type": "code",
   "execution_count": 20,
   "metadata": {},
   "outputs": [],
   "source": [
    "class queue:\n",
    "    def __init__(self):\n",
    "        self.queue = []\n",
    "    def enqueue(self,item):\n",
    "        self.queue.append(item)\n",
    "    def dequeue(self):\n",
    "        if len(self.queue) < 1:\n",
    "            return \"Empty Queue\"\n",
    "        return self.queue.pop(0)\n",
    "    def display(self):\n",
    "        return self.queue\n",
    "    def size(self):\n",
    "        return len(self.queue)\n",
    "        "
   ]
  },
  {
   "cell_type": "code",
   "execution_count": 21,
   "metadata": {},
   "outputs": [],
   "source": [
    "sm = queue()\n"
   ]
  },
  {
   "cell_type": "code",
   "execution_count": 28,
   "metadata": {},
   "outputs": [
    {
     "data": {
      "text/plain": [
       "[1, 2, 3, 5]"
      ]
     },
     "execution_count": 28,
     "metadata": {},
     "output_type": "execute_result"
    }
   ],
   "source": [
    "sm.display()"
   ]
  },
  {
   "cell_type": "code",
   "execution_count": 27,
   "metadata": {},
   "outputs": [
    {
     "data": {
      "text/plain": [
       "1"
      ]
     },
     "execution_count": 27,
     "metadata": {},
     "output_type": "execute_result"
    }
   ],
   "source": [
    "sm.dequeue()"
   ]
  },
  {
   "cell_type": "code",
   "execution_count": 24,
   "metadata": {},
   "outputs": [],
   "source": [
    "sm.enqueue(1)"
   ]
  },
  {
   "cell_type": "code",
   "execution_count": 25,
   "metadata": {},
   "outputs": [],
   "source": [
    "sm.enqueue(1)\n",
    "sm.enqueue(2)\n",
    "sm.enqueue(3)\n",
    "sm.enqueue(5)"
   ]
  },
  {
   "cell_type": "code",
   "execution_count": 13,
   "metadata": {},
   "outputs": [],
   "source": [
    "class stack:\n",
    "    def __init__(self):\n",
    "        self.stack = []\n",
    "    def increase_stack(self,item):\n",
    "        return self.stack.append(item)\n",
    "    def reduce_stack(self):\n",
    "        if len(self.stack) < 1:\n",
    "            return \"Empty Stack\"\n",
    "        return self.stack.pop(-1)\n",
    "    def display(self):\n",
    "        return self.stack\n",
    "    def size(self):\n",
    "        return len(self.stack)\n",
    "    "
   ]
  },
  {
   "cell_type": "code",
   "execution_count": 14,
   "metadata": {},
   "outputs": [],
   "source": [
    "My_Gs = stack()"
   ]
  },
  {
   "cell_type": "code",
   "execution_count": 15,
   "metadata": {},
   "outputs": [],
   "source": [
    "My_Gs.increase_stack(\"Uduma Esther\")\n",
    "My_Gs.increase_stack(\"Oke Oladunsi\")"
   ]
  },
  {
   "cell_type": "code",
   "execution_count": 16,
   "metadata": {},
   "outputs": [
    {
     "data": {
      "text/plain": [
       "['Uduma Esther', 'Oke Oladunsi']"
      ]
     },
     "execution_count": 16,
     "metadata": {},
     "output_type": "execute_result"
    }
   ],
   "source": [
    "My_Gs.display()"
   ]
  },
  {
   "cell_type": "code",
   "execution_count": 19,
   "metadata": {},
   "outputs": [
    {
     "data": {
      "text/plain": [
       "'Empty Stack'"
      ]
     },
     "execution_count": 19,
     "metadata": {},
     "output_type": "execute_result"
    }
   ],
   "source": [
    "My_Gs.reduce_stack()"
   ]
  },
  {
   "cell_type": "code",
   "execution_count": 94,
   "metadata": {},
   "outputs": [],
   "source": [
    "class circular_queue(object):\n",
    "    def __init__(self, k):\n",
    "        self.maxlen = k # where k is maximum length of the queue or list\n",
    "        self.currlen = 0 # where first assign the init length of queue to be zero\n",
    "        self.queue = [None] * k # here we multiply the value of empty list by length maximum length of the queue\n",
    "        self.head = -1 # here we are dealing with indexing and we set the first item position to -1 which is the index for the last item of list/queue\n",
    "        self.tail = -1 # here we are still dealing with indexing and we set the last item which is also the first item since the queue is empty\n",
    "        \n",
    "    def enQueue(self, item):\n",
    "        if self.isFull(): # check if the queue is full\n",
    "            return False # if full\n",
    "        # else if not full\n",
    "        tail = (self.tail + 1) % self.maxlen # then add 1 to the self.tail and get the modular division of the self.tail and self.maxlen in the __init__ function above\n",
    "        self.queue[tail] = item # here we put the item into the queue by assigning the item into the index position cause tail is an integer value of a position in circular queue\n",
    "        self.tail = tail # assigning the value of tail into self.tail by changing it from -1 in __init__ to (self.tail + 1) % self.maxlen\n",
    "        self.currlen += 1 # here we update the value of currlen of __init__ from 0 by add 1 every time the enqueue method is called!!!\n",
    "        if self.currlen == 1: \n",
    "            self.head = 1 # if the current length of the queue/list is holding 1 item the set the item index to 1\n",
    "            \n",
    "        return True\n",
    "    \n",
    "    def deQueue(self):\n",
    "        if self.isEmpty(): # checking if the queue/list is empty\n",
    "            return False # if empty \n",
    "        # else if not empty\n",
    "        self.head = (self.head + 1) % self.maxlen # then add 1 to the self.head and get the modular division of the self.head and self.maxlen in the __init__ then put it into self.head\n",
    "        self.currlen -= 1 # here we update the value of currlen of __init__ from whatever it is depending on amount of enqueue that have done by subtract 1 every time the dequeue method is called!!!\n",
    "        if self.isEmpty(): # then if dequeue is called again this when every item is removed then set the value of self.head and self.tail back to inital state of -1 in __init__\n",
    "            self.head = -1\n",
    "            self.tail = -1\n",
    "        return True\n",
    "    \n",
    "    def front(self):\n",
    "        if self.isEmpty(): # if front method is called and queue is empty return -1\n",
    "            return -1\n",
    "        # else if queue/list not empty then display the first item that came into the queue/list.\n",
    "        return self.queue[self.head]\n",
    "    \n",
    "    def rear(self):\n",
    "        if self.isEmpty(): # if rear method is called and queue is empty return -1\n",
    "            return -1\n",
    "        # else if queue/list not empty then display the last item that came into the queue/list.\n",
    "        return self.queue[self.tail]\n",
    "    \n",
    "    # Get the last item from the queue\n",
    "    def Rear(self):\n",
    "        if self.isEmpty():\n",
    "            return -1\n",
    "\n",
    "        return self.queue[self.tail]\n",
    "\n",
    "    # Checks whether the circular queue is empty or not\n",
    "    def isEmpty(self):\n",
    "        return self.currlen == 0\n",
    "\n",
    "    # Checks whether the circular queue is full or not\n",
    "    def isFull(self):\n",
    "        return self.currlen == self.maxlen\n",
    "\n",
    "    # Display the queue\n",
    "    def Display(self):\n",
    "        for i in range(self.head, self.tail):\n",
    "            print(self.queue[i], end=\" \")"
   ]
  },
  {
   "cell_type": "code",
   "execution_count": 97,
   "metadata": {},
   "outputs": [
    {
     "data": {
      "text/plain": [
       "False"
      ]
     },
     "execution_count": 97,
     "metadata": {},
     "output_type": "execute_result"
    }
   ],
   "source": [
    "# Your MyCircularQueue object will be instantiated and called as such:\n",
    "obj = circular_queue(5)\n",
    "obj.enQueue(1)\n",
    "obj.enQueue(2)\n",
    "obj.enQueue(3)\n",
    "obj.enQueue(4)\n",
    "obj.enQueue(5)\n",
    "obj.enQueue(6)\n",
    "obj.enQueue(7)\n",
    "obj.enQueue(8)\n",
    "obj.enQueue(9)\n",
    "obj.enQueue(10)"
   ]
  },
  {
   "cell_type": "code",
   "execution_count": 98,
   "metadata": {},
   "outputs": [
    {
     "name": "stdout",
     "output_type": "stream",
     "text": [
      "Initial array\n",
      "2 3 4 None\n",
      "After removing an element\n"
     ]
    },
    {
     "data": {
      "text/plain": [
       "True"
      ]
     },
     "execution_count": 98,
     "metadata": {},
     "output_type": "execute_result"
    }
   ],
   "source": [
    "print(\"Initial array\")\n",
    "print(obj.Display())\n",
    "\n",
    "print(\"After removing an element\")\n",
    "obj.deQueue()\n",
    "#obj.Display()"
   ]
  },
  {
   "cell_type": "code",
   "execution_count": 91,
   "metadata": {},
   "outputs": [
    {
     "data": {
      "text/plain": [
       "True"
      ]
     },
     "execution_count": 91,
     "metadata": {},
     "output_type": "execute_result"
    }
   ],
   "source": [
    "obj.deQueue()"
   ]
  },
  {
   "cell_type": "code",
   "execution_count": 90,
   "metadata": {},
   "outputs": [
    {
     "name": "stdout",
     "output_type": "stream",
     "text": [
      "9 None\n"
     ]
    }
   ],
   "source": [
    "print(obj.Display())"
   ]
  },
  {
   "cell_type": "code",
   "execution_count": 100,
   "metadata": {},
   "outputs": [
    {
     "name": "stdout",
     "output_type": "stream",
     "text": [
      "Elements in the circular queue are: 14 22 13 -6 \n"
     ]
    }
   ],
   "source": [
    "\n",
    "class CircularQueue(): \n",
    "  \n",
    "    # constructor \n",
    "    def __init__(self, size): # initializing the class \n",
    "        self.size = size \n",
    "          \n",
    "        # initializing queue with none \n",
    "        self.queue = [None for i in range(size)]  \n",
    "        self.front = self.rear = -1\n",
    "  \n",
    "    def enqueue(self, data): \n",
    "          \n",
    "        # condition if queue is full \n",
    "        if ((self.rear + 1) % self.size == self.front):  \n",
    "            print(\" Queue is Full\\n\") \n",
    "              \n",
    "        # condition for empty queue \n",
    "        elif (self.front == -1):  \n",
    "            self.front = 0\n",
    "            self.rear = 0\n",
    "            self.queue[self.rear] = data \n",
    "        else: \n",
    "              \n",
    "            # next position of rear \n",
    "            self.rear = (self.rear + 1) % self.size  \n",
    "            self.queue[self.rear] = data \n",
    "              \n",
    "    def dequeue(self): \n",
    "        if (self.front == -1): # codition for empty queue \n",
    "            print (\"Queue is Empty\\n\") \n",
    "              \n",
    "        # condition for only one element \n",
    "        elif (self.front == self.rear):  \n",
    "            temp=self.queue[self.front] \n",
    "            self.front = -1\n",
    "            self.rear = -1\n",
    "            return temp \n",
    "        else: \n",
    "            temp = self.queue[self.front] \n",
    "            self.front = (self.front + 1) % self.size \n",
    "            return temp \n",
    "  \n",
    "    def display(self): \n",
    "      \n",
    "        # condition for empty queue \n",
    "        if(self.front == -1):  \n",
    "            print (\"Queue is Empty\") \n",
    "  \n",
    "        elif (self.rear >= self.front): \n",
    "            print(\"Elements in the circular queue are:\",  \n",
    "                                              end = \" \") \n",
    "            for i in range(self.front, self.rear + 1): \n",
    "                print(self.queue[i], end = \" \") \n",
    "            print () \n",
    "  \n",
    "        else: \n",
    "            print (\"Elements in Circular Queue are:\",  \n",
    "                                           end = \" \") \n",
    "            for i in range(self.front, self.size): \n",
    "                print(self.queue[i], end = \" \") \n",
    "            for i in range(0, self.rear + 1): \n",
    "                print(self.queue[i], end = \" \") \n",
    "            print () \n",
    "  \n",
    "        if ((self.rear + 1) % self.size == self.front): \n",
    "            print(\"Queue is Full\") \n",
    "  \n",
    "# Driver Code \n",
    "ob = CircularQueue(5) \n",
    "ob.enqueue(14) \n",
    "ob.enqueue(22) \n",
    "ob.enqueue(13) \n",
    "ob.enqueue(-6) \n",
    "ob.display() \n"
   ]
  },
  {
   "cell_type": "code",
   "execution_count": 139,
   "metadata": {},
   "outputs": [
    {
     "name": "stdout",
     "output_type": "stream",
     "text": [
      "Queue is Empty\n",
      "\n",
      "Deleted value =  None\n",
      "Queue is Empty\n",
      "\n",
      "Deleted value =  None\n",
      "Queue is Empty\n",
      "Elements in the circular queue are: 9 20 5 \n"
     ]
    }
   ],
   "source": [
    "print (\"Deleted value = \", ob.dequeue()) \n",
    "print (\"Deleted value = \", ob.dequeue()) \n",
    "ob.display() \n",
    "ob.enqueue(9) \n",
    "ob.enqueue(20) \n",
    "ob.enqueue(5) \n",
    "ob.display() \n",
    "  \n",
    "# This code is contributed by AshwinGoel  \n"
   ]
  },
  {
   "cell_type": "code",
   "execution_count": 141,
   "metadata": {},
   "outputs": [],
   "source": [
    "ob.enqueue(14) "
   ]
  },
  {
   "cell_type": "code",
   "execution_count": 140,
   "metadata": {},
   "outputs": [
    {
     "name": "stdout",
     "output_type": "stream",
     "text": [
      "Elements in the circular queue are: 9 20 5 \n"
     ]
    }
   ],
   "source": [
    "ob.display() "
   ]
  },
  {
   "cell_type": "code",
   "execution_count": 142,
   "metadata": {},
   "outputs": [
    {
     "name": "stdout",
     "output_type": "stream",
     "text": [
      "Elements in the circular queue are: 9 20 5 14 \n"
     ]
    }
   ],
   "source": [
    "ob.display() "
   ]
  },
  {
   "cell_type": "code",
   "execution_count": 147,
   "metadata": {},
   "outputs": [
    {
     "name": "stdout",
     "output_type": "stream",
     "text": [
      "Queue is Empty\n",
      "\n"
     ]
    }
   ],
   "source": [
    "ob.dequeue()"
   ]
  },
  {
   "cell_type": "code",
   "execution_count": null,
   "metadata": {},
   "outputs": [],
   "source": []
  }
 ],
 "metadata": {
  "kernelspec": {
   "display_name": "Python 3",
   "language": "python",
   "name": "python3"
  },
  "language_info": {
   "codemirror_mode": {
    "name": "ipython",
    "version": 3
   },
   "file_extension": ".py",
   "mimetype": "text/x-python",
   "name": "python",
   "nbconvert_exporter": "python",
   "pygments_lexer": "ipython3",
   "version": "3.7.6"
  }
 },
 "nbformat": 4,
 "nbformat_minor": 4
}
